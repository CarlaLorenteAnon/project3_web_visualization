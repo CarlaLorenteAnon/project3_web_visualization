{
 "cells": [
  {
   "cell_type": "code",
   "execution_count": 33,
   "id": "9c1be8df",
   "metadata": {
    "collapsed": true
   },
   "outputs": [],
   "source": [
    "from flask import Flask, jsonify\n",
    "from sqlalchemy import create_engine\n",
    "import os\n",
    "import numpy as np\n",
    "import json\n",
    "import decimal, datetime\n"
   ]
  },
  {
   "cell_type": "code",
   "execution_count": 16,
   "id": "8f4f5131",
   "metadata": {
    "collapsed": false
   },
   "outputs": [],
   "source": [
    "rds_connection_string = \"postgres:postgres@localhost:5432/ziproject\"\n",
    "engine = create_engine(f'postgresql://{rds_connection_string}')"
   ]
  },
  {
   "cell_type": "code",
   "execution_count": 36,
   "id": "6e64edb7",
   "metadata": {
    "collapsed": false
   },
   "outputs": [],
   "source": [
    "data = engine.execute(\"SELECT us_zip_code, estimated_population FROM zips\")\n",
    "result= json.dumps([dict(r) for r in data])\n"
   ]
  }
 ],
 "metadata": {
  "kernelspec": {
   "display_name": "PythonData",
   "language": "python",
   "name": "pythondata"
  },
  "language_info": {
   "codemirror_mode": {
    "name": "ipython",
    "version": 3
   },
   "file_extension": ".py",
   "mimetype": "text/x-python",
   "name": "python",
   "nbconvert_exporter": "python",
   "pygments_lexer": "ipython3",
   "version": "3.6.10"
  }
 },
 "nbformat": 4,
 "nbformat_minor": 5
}
